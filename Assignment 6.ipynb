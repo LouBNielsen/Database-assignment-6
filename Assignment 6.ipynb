{
 "cells": [
  {
   "cell_type": "markdown",
   "metadata": {},
   "source": [
    "Exercise 1\n",
    "\n",
    "The table contains tree indixes for the table circuits:\n",
    "\n",
    "    idx_17102_primary (PRIMARY KEY, btree, circuitid)\n",
    "    idx_17102_url (UNIQE, btree url)\n",
    "    circuits_position_idx (gist, position)\n",
    "    \n",
    "The first one and sedond one is a B tree type.\n",
    "B trees can handle equality and rage queries which is smart if you need to compare, seach and find fast.\n",
    "B trees indexes can also be used to retrieve data in sorted order.\n",
    "\n",
    "The amout of space taken from the two indices is 16 kB.\n",
    "\n",
    "The last index is a GiST probably because it is a position and a position consists of two coordinates. \n",
    "GiST can be usted to find two-dimensional geometric data types.\n",
    "\n",
    "The amout of space taken by the index is 8192 bytes.\n",
    "    "
   ]
  },
  {
   "cell_type": "code",
   "execution_count": 29,
   "metadata": {
    "scrolled": false
   },
   "outputs": [
    {
     "name": "stdout",
     "output_type": "stream",
     "text": [
      "10 rows affected.\n"
     ]
    },
    {
     "data": {
      "text/html": [
       "<table>\n",
       "    <tr>\n",
       "        <th>date</th>\n",
       "        <th>surname</th>\n",
       "        <th>dob</th>\n",
       "        <th>milliseconds</th>\n",
       "        <th>racename</th>\n",
       "        <th>name</th>\n",
       "    </tr>\n",
       "    <tr>\n",
       "        <td>2008-03-16</td>\n",
       "        <td>Kovalainen</td>\n",
       "        <td>1981-10-19</td>\n",
       "        <td>5708630</td>\n",
       "        <td>Australian Grand Prix</td>\n",
       "        <td>Albert Park Grand Prix Circuit</td>\n",
       "    </tr>\n",
       "    <tr>\n",
       "        <td>2008-04-06</td>\n",
       "        <td>Kovalainen</td>\n",
       "        <td>1981-10-19</td>\n",
       "        <td>5493759</td>\n",
       "        <td>Bahrain Grand Prix</td>\n",
       "        <td>Bahrain International Circuit</td>\n",
       "    </tr>\n",
       "    <tr>\n",
       "        <td>2008-08-24</td>\n",
       "        <td>Massa</td>\n",
       "        <td>1981-04-25</td>\n",
       "        <td>5732339</td>\n",
       "        <td>European Grand Prix</td>\n",
       "        <td>Valencia Street Circuit</td>\n",
       "    </tr>\n",
       "    <tr>\n",
       "        <td>2008-10-12</td>\n",
       "        <td>Massa</td>\n",
       "        <td>1981-04-25</td>\n",
       "        <td>5468050</td>\n",
       "        <td>Japanese Grand Prix</td>\n",
       "        <td>Fuji Speedway</td>\n",
       "    </tr>\n",
       "    <tr>\n",
       "        <td>2008-10-19</td>\n",
       "        <td>Hamilton</td>\n",
       "        <td>1985-01-07</td>\n",
       "        <td>5517403</td>\n",
       "        <td>Chinese Grand Prix</td>\n",
       "        <td>Shanghai International Circuit</td>\n",
       "    </tr>\n",
       "    <tr>\n",
       "        <td>2008-11-02</td>\n",
       "        <td>Massa</td>\n",
       "        <td>1981-04-25</td>\n",
       "        <td>5651435</td>\n",
       "        <td>Brazilian Grand Prix</td>\n",
       "        <td>Autódromo José Carlos Pace</td>\n",
       "    </tr>\n",
       "    <tr>\n",
       "        <td>2007-04-08</td>\n",
       "        <td>Hamilton</td>\n",
       "        <td>1985-01-07</td>\n",
       "        <td>5552487</td>\n",
       "        <td>Malaysian Grand Prix</td>\n",
       "        <td>Sepang International Circuit</td>\n",
       "    </tr>\n",
       "    <tr>\n",
       "        <td>2007-04-15</td>\n",
       "        <td>Massa</td>\n",
       "        <td>1981-04-25</td>\n",
       "        <td>5607515</td>\n",
       "        <td>Bahrain Grand Prix</td>\n",
       "        <td>Bahrain International Circuit</td>\n",
       "    </tr>\n",
       "    <tr>\n",
       "        <td>2007-05-13</td>\n",
       "        <td>Massa</td>\n",
       "        <td>1981-04-25</td>\n",
       "        <td>5496230</td>\n",
       "        <td>Spanish Grand Prix</td>\n",
       "        <td>Circuit de Barcelona-Catalunya</td>\n",
       "    </tr>\n",
       "    <tr>\n",
       "        <td>2007-05-27</td>\n",
       "        <td>Alonso</td>\n",
       "        <td>1981-07-29</td>\n",
       "        <td>6029329</td>\n",
       "        <td>Monaco Grand Prix</td>\n",
       "        <td>Circuit de Monaco</td>\n",
       "    </tr>\n",
       "</table>"
      ],
      "text/plain": [
       "[(datetime.date(2008, 3, 16), 'Kovalainen', datetime.date(1981, 10, 19), 5708630, 'Australian Grand Prix', 'Albert Park Grand Prix Circuit'),\n",
       " (datetime.date(2008, 4, 6), 'Kovalainen', datetime.date(1981, 10, 19), 5493759, 'Bahrain Grand Prix', 'Bahrain International Circuit'),\n",
       " (datetime.date(2008, 8, 24), 'Massa', datetime.date(1981, 4, 25), 5732339, 'European Grand Prix', 'Valencia Street Circuit'),\n",
       " (datetime.date(2008, 10, 12), 'Massa', datetime.date(1981, 4, 25), 5468050, 'Japanese Grand Prix', 'Fuji Speedway'),\n",
       " (datetime.date(2008, 10, 19), 'Hamilton', datetime.date(1985, 1, 7), 5517403, 'Chinese Grand Prix', 'Shanghai International Circuit'),\n",
       " (datetime.date(2008, 11, 2), 'Massa', datetime.date(1981, 4, 25), 5651435, 'Brazilian Grand Prix', 'Autódromo José Carlos Pace'),\n",
       " (datetime.date(2007, 4, 8), 'Hamilton', datetime.date(1985, 1, 7), 5552487, 'Malaysian Grand Prix', 'Sepang International Circuit'),\n",
       " (datetime.date(2007, 4, 15), 'Massa', datetime.date(1981, 4, 25), 5607515, 'Bahrain Grand Prix', 'Bahrain International Circuit'),\n",
       " (datetime.date(2007, 5, 13), 'Massa', datetime.date(1981, 4, 25), 5496230, 'Spanish Grand Prix', 'Circuit de Barcelona-Catalunya'),\n",
       " (datetime.date(2007, 5, 27), 'Alonso', datetime.date(1981, 7, 29), 6029329, 'Monaco Grand Prix', 'Circuit de Monaco')]"
      ]
     },
     "execution_count": 29,
     "metadata": {},
     "output_type": "execute_result"
    }
   ],
   "source": [
    "%sql SELECT races.date, surname, dob, milliseconds, races.name racename, circuits.name FROM results JOIN drivers USING(driverid) JOIN races USING (raceid) JOIN circuits USING (circuitid) WHERE dob >= '1980-01-01' and rank = 1 LIMIT 10;"
   ]
  },
  {
   "cell_type": "code",
   "execution_count": 35,
   "metadata": {
    "scrolled": true
   },
   "outputs": [
    {
     "name": "stdout",
     "output_type": "stream",
     "text": [
      "19 rows affected.\n"
     ]
    },
    {
     "data": {
      "text/html": [
       "<table>\n",
       "    <tr>\n",
       "        <th>QUERY PLAN</th>\n",
       "    </tr>\n",
       "    <tr>\n",
       "        <td>Limit  (cost=25.68..429.39 rows=10 width=62) (actual time=0.150..0.236 rows=10 loops=1)</td>\n",
       "    </tr>\n",
       "    <tr>\n",
       "        <td>&nbsp;&nbsp;-&gt;  Nested Loop  (cost=25.68..752.35 rows=18 width=62) (actual time=0.149..0.235 rows=10 loops=1)</td>\n",
       "    </tr>\n",
       "    <tr>\n",
       "        <td>&nbsp;&nbsp;&nbsp;&nbsp;&nbsp;&nbsp;&nbsp;&nbsp;-&gt;  Nested Loop  (cost=25.54..749.18 rows=18 width=50) (actual time=0.147..0.223 rows=10 loops=1)</td>\n",
       "    </tr>\n",
       "    <tr>\n",
       "        <td>&nbsp;&nbsp;&nbsp;&nbsp;&nbsp;&nbsp;&nbsp;&nbsp;&nbsp;&nbsp;&nbsp;&nbsp;&nbsp;&nbsp;-&gt;  Hash Join  (cost=25.26..737.47 rows=18 width=27) (actual time=0.141..0.205 rows=10 loops=1)</td>\n",
       "    </tr>\n",
       "    <tr>\n",
       "        <td>&nbsp;&nbsp;&nbsp;&nbsp;&nbsp;&nbsp;&nbsp;&nbsp;&nbsp;&nbsp;&nbsp;&nbsp;&nbsp;&nbsp;&nbsp;&nbsp;&nbsp;&nbsp;&nbsp;&nbsp;Hash Cond: (results.driverid = drivers.driverid)</td>\n",
       "    </tr>\n",
       "    <tr>\n",
       "        <td>&nbsp;&nbsp;&nbsp;&nbsp;&nbsp;&nbsp;&nbsp;&nbsp;&nbsp;&nbsp;&nbsp;&nbsp;&nbsp;&nbsp;&nbsp;&nbsp;&nbsp;&nbsp;&nbsp;&nbsp;-&gt;  Seq Scan on results  (cost=0.00..708.96 rows=257 width=24) (actual time=0.007..0.068 rows=23 loops=1)</td>\n",
       "    </tr>\n",
       "    <tr>\n",
       "        <td>&nbsp;&nbsp;&nbsp;&nbsp;&nbsp;&nbsp;&nbsp;&nbsp;&nbsp;&nbsp;&nbsp;&nbsp;&nbsp;&nbsp;&nbsp;&nbsp;&nbsp;&nbsp;&nbsp;&nbsp;&nbsp;&nbsp;&nbsp;&nbsp;&nbsp;&nbsp;Filter: (rank = 1)</td>\n",
       "    </tr>\n",
       "    <tr>\n",
       "        <td>&nbsp;&nbsp;&nbsp;&nbsp;&nbsp;&nbsp;&nbsp;&nbsp;&nbsp;&nbsp;&nbsp;&nbsp;&nbsp;&nbsp;&nbsp;&nbsp;&nbsp;&nbsp;&nbsp;&nbsp;&nbsp;&nbsp;&nbsp;&nbsp;&nbsp;&nbsp;Rows Removed by Filter: 438</td>\n",
       "    </tr>\n",
       "    <tr>\n",
       "        <td>&nbsp;&nbsp;&nbsp;&nbsp;&nbsp;&nbsp;&nbsp;&nbsp;&nbsp;&nbsp;&nbsp;&nbsp;&nbsp;&nbsp;&nbsp;&nbsp;&nbsp;&nbsp;&nbsp;&nbsp;-&gt;  Hash  (cost=24.51..24.51 rows=60 width=19) (actual time=0.128..0.128 rows=61 loops=1)</td>\n",
       "    </tr>\n",
       "    <tr>\n",
       "        <td>&nbsp;&nbsp;&nbsp;&nbsp;&nbsp;&nbsp;&nbsp;&nbsp;&nbsp;&nbsp;&nbsp;&nbsp;&nbsp;&nbsp;&nbsp;&nbsp;&nbsp;&nbsp;&nbsp;&nbsp;&nbsp;&nbsp;&nbsp;&nbsp;&nbsp;&nbsp;Buckets: 1024  Batches: 1  Memory Usage: 12kB</td>\n",
       "    </tr>\n",
       "    <tr>\n",
       "        <td>&nbsp;&nbsp;&nbsp;&nbsp;&nbsp;&nbsp;&nbsp;&nbsp;&nbsp;&nbsp;&nbsp;&nbsp;&nbsp;&nbsp;&nbsp;&nbsp;&nbsp;&nbsp;&nbsp;&nbsp;&nbsp;&nbsp;&nbsp;&nbsp;&nbsp;&nbsp;-&gt;  Seq Scan on drivers  (cost=0.00..24.51 rows=60 width=19) (actual time=0.003..0.117 rows=61 loops=1)</td>\n",
       "    </tr>\n",
       "    <tr>\n",
       "        <td>&nbsp;&nbsp;&nbsp;&nbsp;&nbsp;&nbsp;&nbsp;&nbsp;&nbsp;&nbsp;&nbsp;&nbsp;&nbsp;&nbsp;&nbsp;&nbsp;&nbsp;&nbsp;&nbsp;&nbsp;&nbsp;&nbsp;&nbsp;&nbsp;&nbsp;&nbsp;&nbsp;&nbsp;&nbsp;&nbsp;&nbsp;&nbsp;Filter: (dob &gt;= &#x27;1980-01-01&#x27;::date)</td>\n",
       "    </tr>\n",
       "    <tr>\n",
       "        <td>&nbsp;&nbsp;&nbsp;&nbsp;&nbsp;&nbsp;&nbsp;&nbsp;&nbsp;&nbsp;&nbsp;&nbsp;&nbsp;&nbsp;&nbsp;&nbsp;&nbsp;&nbsp;&nbsp;&nbsp;&nbsp;&nbsp;&nbsp;&nbsp;&nbsp;&nbsp;&nbsp;&nbsp;&nbsp;&nbsp;&nbsp;&nbsp;Rows Removed by Filter: 780</td>\n",
       "    </tr>\n",
       "    <tr>\n",
       "        <td>&nbsp;&nbsp;&nbsp;&nbsp;&nbsp;&nbsp;&nbsp;&nbsp;&nbsp;&nbsp;&nbsp;&nbsp;&nbsp;&nbsp;-&gt;  Index Scan using idx_17199_primary on races  (cost=0.28..0.65 rows=1 width=39) (actual time=0.001..0.001 rows=1 loops=10)</td>\n",
       "    </tr>\n",
       "    <tr>\n",
       "        <td>&nbsp;&nbsp;&nbsp;&nbsp;&nbsp;&nbsp;&nbsp;&nbsp;&nbsp;&nbsp;&nbsp;&nbsp;&nbsp;&nbsp;&nbsp;&nbsp;&nbsp;&nbsp;&nbsp;&nbsp;Index Cond: (raceid = results.raceid)</td>\n",
       "    </tr>\n",
       "    <tr>\n",
       "        <td>&nbsp;&nbsp;&nbsp;&nbsp;&nbsp;&nbsp;&nbsp;&nbsp;-&gt;  Index Scan using idx_17102_primary on circuits  (cost=0.14..0.18 rows=1 width=28) (actual time=0.001..0.001 rows=1 loops=10)</td>\n",
       "    </tr>\n",
       "    <tr>\n",
       "        <td>&nbsp;&nbsp;&nbsp;&nbsp;&nbsp;&nbsp;&nbsp;&nbsp;&nbsp;&nbsp;&nbsp;&nbsp;&nbsp;&nbsp;Index Cond: (circuitid = races.circuitid)</td>\n",
       "    </tr>\n",
       "    <tr>\n",
       "        <td>Planning time: 0.341 ms</td>\n",
       "    </tr>\n",
       "    <tr>\n",
       "        <td>Execution time: 0.269 ms</td>\n",
       "    </tr>\n",
       "</table>"
      ],
      "text/plain": [
       "[('Limit  (cost=25.68..429.39 rows=10 width=62) (actual time=0.150..0.236 rows=10 loops=1)',),\n",
       " ('  ->  Nested Loop  (cost=25.68..752.35 rows=18 width=62) (actual time=0.149..0.235 rows=10 loops=1)',),\n",
       " ('        ->  Nested Loop  (cost=25.54..749.18 rows=18 width=50) (actual time=0.147..0.223 rows=10 loops=1)',),\n",
       " ('              ->  Hash Join  (cost=25.26..737.47 rows=18 width=27) (actual time=0.141..0.205 rows=10 loops=1)',),\n",
       " ('                    Hash Cond: (results.driverid = drivers.driverid)',),\n",
       " ('                    ->  Seq Scan on results  (cost=0.00..708.96 rows=257 width=24) (actual time=0.007..0.068 rows=23 loops=1)',),\n",
       " ('                          Filter: (rank = 1)',),\n",
       " ('                          Rows Removed by Filter: 438',),\n",
       " ('                    ->  Hash  (cost=24.51..24.51 rows=60 width=19) (actual time=0.128..0.128 rows=61 loops=1)',),\n",
       " ('                          Buckets: 1024  Batches: 1  Memory Usage: 12kB',),\n",
       " ('                          ->  Seq Scan on drivers  (cost=0.00..24.51 rows=60 width=19) (actual time=0.003..0.117 rows=61 loops=1)',),\n",
       " (\"                                Filter: (dob >= '1980-01-01'::date)\",),\n",
       " ('                                Rows Removed by Filter: 780',),\n",
       " ('              ->  Index Scan using idx_17199_primary on races  (cost=0.28..0.65 rows=1 width=39) (actual time=0.001..0.001 rows=1 loops=10)',),\n",
       " ('                    Index Cond: (raceid = results.raceid)',),\n",
       " ('        ->  Index Scan using idx_17102_primary on circuits  (cost=0.14..0.18 rows=1 width=28) (actual time=0.001..0.001 rows=1 loops=10)',),\n",
       " ('              Index Cond: (circuitid = races.circuitid)',),\n",
       " ('Planning time: 0.341 ms',),\n",
       " ('Execution time: 0.269 ms',)]"
      ]
     },
     "execution_count": 35,
     "metadata": {},
     "output_type": "execute_result"
    }
   ],
   "source": [
    "%sql EXPLAIN ANALYZE SELECT races.date, surname, dob, milliseconds, races.name racename, circuits.name FROM results JOIN drivers USING(driverid) JOIN races USING (raceid) JOIN circuits USING (circuitid) WHERE dob >= '1980-01-01' and rank = 1 LIMIT 10;"
   ]
  },
  {
   "cell_type": "markdown",
   "metadata": {},
   "source": [
    "It makes 9 calls and it takes 4.363 ms time to perform the query."
   ]
  },
  {
   "cell_type": "code",
   "execution_count": 31,
   "metadata": {},
   "outputs": [
    {
     "name": "stdout",
     "output_type": "stream",
     "text": [
      "Done.\n"
     ]
    },
    {
     "data": {
      "text/plain": [
       "[]"
      ]
     },
     "execution_count": 31,
     "metadata": {},
     "output_type": "execute_result"
    }
   ],
   "source": [
    "%sql CREATE VIEW race_winners AS SELECT races.date, surname, dob, milliseconds, races.name racename, circuits.name FROM results JOIN drivers USING(driverid) JOIN races USING (raceid) JOIN circuits USING (circuitid) WHERE dob >= '1980-01-01' and rank = 1 LIMIT 10;"
   ]
  },
  {
   "cell_type": "code",
   "execution_count": 33,
   "metadata": {},
   "outputs": [
    {
     "name": "stdout",
     "output_type": "stream",
     "text": [
      "10 rows affected.\n"
     ]
    },
    {
     "data": {
      "text/plain": [
       "[]"
      ]
     },
     "execution_count": 33,
     "metadata": {},
     "output_type": "execute_result"
    }
   ],
   "source": [
    "%sql CREATE MATERIALIZED VIEW race_winners_cache AS SELECT * FROM race_winners;"
   ]
  },
  {
   "cell_type": "code",
   "execution_count": 34,
   "metadata": {
    "scrolled": false
   },
   "outputs": [
    {
     "name": "stdout",
     "output_type": "stream",
     "text": [
      "3 rows affected.\n"
     ]
    },
    {
     "data": {
      "text/html": [
       "<table>\n",
       "    <tr>\n",
       "        <th>QUERY PLAN</th>\n",
       "    </tr>\n",
       "    <tr>\n",
       "        <td>Seq Scan on race_winners_cache  (cost=0.00..10.50 rows=50 width=1564) (actual time=0.004..0.005 rows=10 loops=1)</td>\n",
       "    </tr>\n",
       "    <tr>\n",
       "        <td>Planning time: 0.070 ms</td>\n",
       "    </tr>\n",
       "    <tr>\n",
       "        <td>Execution time: 0.015 ms</td>\n",
       "    </tr>\n",
       "</table>"
      ],
      "text/plain": [
       "[('Seq Scan on race_winners_cache  (cost=0.00..10.50 rows=50 width=1564) (actual time=0.004..0.005 rows=10 loops=1)',),\n",
       " ('Planning time: 0.070 ms',),\n",
       " ('Execution time: 0.015 ms',)]"
      ]
     },
     "execution_count": 34,
     "metadata": {},
     "output_type": "execute_result"
    }
   ],
   "source": [
    "%sql EXPLAIN ANALYSE SELECT * FROM race_winners_cache;"
   ]
  },
  {
   "cell_type": "markdown",
   "metadata": {},
   "source": [
    "The execution time has changes a lot and is much faster than before because the statement are calling the cache instead of executing the query again. It is just a snapshot of a former executed statement."
   ]
  }
 ],
 "metadata": {
  "kernelspec": {
   "display_name": "Python 3",
   "language": "python",
   "name": "python3"
  },
  "language_info": {
   "codemirror_mode": {
    "name": "ipython",
    "version": 3
   },
   "file_extension": ".py",
   "mimetype": "text/x-python",
   "name": "python",
   "nbconvert_exporter": "python",
   "pygments_lexer": "ipython3",
   "version": "3.6.3"
  }
 },
 "nbformat": 4,
 "nbformat_minor": 2
}
